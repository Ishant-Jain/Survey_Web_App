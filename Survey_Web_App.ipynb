{
 "cells": [
  {
   "cell_type": "code",
   "execution_count": null,
   "id": "1113effe",
   "metadata": {},
   "outputs": [],
   "source": [
    "# !jupyter nbextension enable --py widgetsnbextension --sys-prefix\n",
    "# !jupyter serverextension enable voila --sys-prefix"
   ]
  },
  {
   "cell_type": "code",
   "execution_count": null,
   "id": "b8ade7d8",
   "metadata": {},
   "outputs": [],
   "source": [
    "import ipywidgets as widgets\n",
    "from IPython.display import display,clear_output"
   ]
  },
  {
   "cell_type": "code",
   "execution_count": null,
   "id": "f3877959",
   "metadata": {},
   "outputs": [],
   "source": [
    "print(\"Ishant send the files for submission by today\")\n",
    "\n",
    "button_yes = widgets.Button(description='Yes',tooltip='Yes',style={'description_width': 'initial'})\n",
    "\n",
    "button_no = widgets.Button(description='No',tooltip='No',style={'description_width': 'initial'})\n",
    "\n",
    "response = widgets.Button(description='Confirm',tooltip='Confirm',style={'description_width': 'initial'})\n",
    "\n",
    "sub = widgets.Text(placeholder='Enter Subject in Sentence')\n",
    "task = widgets.Text(placeholder='Enter Task in Sentence')\n",
    "obj = widgets.Text(placeholder='Enter object in Sentence')\n",
    "date = widgets.Text(placeholder='Enter date in Sentence')\n",
    "\n",
    "output = widgets.Output()\n",
    "\n",
    "def choice_yes(event):\n",
    "    with output:\n",
    "        clear_output()\n",
    "        # sub = widgets.Text(placeholder='Enter Subject in Sentence')\n",
    "        # task = widgets.Text(placeholder='Enter Task in Sentence')\n",
    "        # obj = widgets.Text(placeholder='Enter object in Sentence')\n",
    "        # date = widgets.Text(placeholder='Enter date in Sentence')\n",
    "        display(sub,task,obj,date)\n",
    "        display(response)\n",
    "    response.on_click(on_response)\n",
    "    \n",
    "def choice_no(event):\n",
    "    with output:\n",
    "        clear_output()\n",
    "        print(\"No Task Found\")\n",
    "\n",
    "def on_response(event):\n",
    "    with output:\n",
    "        with open(\"data.txt\",'w') as f:\n",
    "            f.write(\"Sub: {} -- Task: {} -- Obj: {} -- Date: {} -- \".format(sub.value,task.value,obj.value,date.value))\n",
    "        f.close()\n",
    "        print(\"Response Saved\")\n",
    "        #print(\"Sub: {} -- Task: {} -- Obj: {} -- Date: {} -- \".format(sub.value,task.value,obj.value,date.value))\n",
    "\n",
    "\n",
    "button_yes.on_click(choice_yes)\n",
    "button_no.on_click(choice_no)\n",
    "\n",
    "display(widgets.VBox([button_yes,button_no, output]))"
   ]
  }
 ],
 "metadata": {
  "kernelspec": {
   "display_name": "Python 3 (ipykernel)",
   "language": "python",
   "name": "python3"
  },
  "language_info": {
   "codemirror_mode": {
    "name": "ipython",
    "version": 3
   },
   "file_extension": ".py",
   "mimetype": "text/x-python",
   "name": "python",
   "nbconvert_exporter": "python",
   "pygments_lexer": "ipython3",
   "version": "3.8.10"
  }
 },
 "nbformat": 4,
 "nbformat_minor": 5
}
